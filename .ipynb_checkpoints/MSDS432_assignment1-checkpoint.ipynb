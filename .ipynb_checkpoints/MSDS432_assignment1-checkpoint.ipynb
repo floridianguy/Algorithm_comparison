{
 "cells": [
  {
   "cell_type": "code",
   "execution_count": 1,
   "metadata": {},
   "outputs": [],
   "source": [
    "import numpy as np\n",
    "import pandas as pd \n",
    "import matplotlib.pyplot as plt \n",
    "import time "
   ]
  },
  {
   "cell_type": "markdown",
   "metadata": {},
   "source": [
    "#### Step 1 - Set up 5 arrays of random integers and a random seed"
   ]
  },
  {
   "cell_type": "code",
   "execution_count": 2,
   "metadata": {},
   "outputs": [],
   "source": [
    "np.random.seed(10)\n",
    "\n",
    "# five randomly generated arrays \n",
    "array_lengths = [512*(2**0), 512*(2**1), 512*(2**2), 512*(2**3), 512*(2**4)]\n",
    "\n",
    "list1 = np.random.randint(1, 10001, array_lengths[0]) \n",
    "list2 = np.random.randint(1, 10001, array_lengths[1]) \n",
    "list3 = np.random.randint(1, 10001, array_lengths[2]) \n",
    "list4 = np.random.randint(1, 10001, array_lengths[3]) \n",
    "list5 = np.random.randint(1, 10001, array_lengths[4]) "
   ]
  },
  {
   "cell_type": "code",
   "execution_count": 3,
   "metadata": {},
   "outputs": [
    {
     "name": "stdout",
     "output_type": "stream",
     "text": [
      "First ten from first list: [1290 7294 1345 7292 9373 4830 1521 9225 9290 6401] \n",
      "\n",
      "Largest value from longest list: 10000\n"
     ]
    }
   ],
   "source": [
    "# verification step \n",
    "print('First ten from first list:', list1[0:10], '\\n') \n",
    "print('Largest value from longest list:', max(list5)) "
   ]
  },
  {
   "cell_type": "markdown",
   "metadata": {},
   "source": [
    "#### Step 2 - Sort arrays using bubble sort method "
   ]
  },
  {
   "cell_type": "code",
   "execution_count": 4,
   "metadata": {},
   "outputs": [],
   "source": [
    "def BubbleSort(num_list):\n",
    "    for i in range(0, len(num_list)):\n",
    "        for j in range(0, len(num_list)-1):\n",
    "            if (num_list[j] > num_list[j+1]):\n",
    "                temp = num_list[j]\n",
    "                num_list[j] = num_list[j+1]\n",
    "                num_list[j+1] = temp \n",
    "    return num_list"
   ]
  },
  {
   "cell_type": "code",
   "execution_count": 5,
   "metadata": {},
   "outputs": [
    {
     "data": {
      "text/plain": [
       "array([1290, 1345, 1521, 4830, 6401, 7292, 7294, 9225, 9290, 9373])"
      ]
     },
     "execution_count": 5,
     "metadata": {},
     "output_type": "execute_result"
    }
   ],
   "source": [
    "# test on same ten figures shown above \n",
    "BubbleSort(list1[0:10])"
   ]
  },
  {
   "cell_type": "code",
   "execution_count": 6,
   "metadata": {},
   "outputs": [
    {
     "name": "stdout",
     "output_type": "stream",
     "text": [
      "First five elements: [27 45 59 60 87] \n",
      "Run time: 0.12751\n"
     ]
    }
   ],
   "source": [
    "StartTime = time.time()\n",
    "\n",
    "BubbleSort(list1)\n",
    "\n",
    "sort_time_list1 = time.time() - StartTime \n",
    "print('First five elements:', BubbleSort(list1)[0:5], '\\nRun time:', round(sort_time_list1, 5))"
   ]
  },
  {
   "cell_type": "code",
   "execution_count": 7,
   "metadata": {},
   "outputs": [
    {
     "name": "stdout",
     "output_type": "stream",
     "text": [
      "First five elements: [ 3  3 31 32 35] \n",
      "Run time: 0.50258\n",
      "This list is twice the size of the previous one and took 3.9416 times longer to run.\n"
     ]
    }
   ],
   "source": [
    "StartTime = time.time()\n",
    "\n",
    "BubbleSort(list2)\n",
    "\n",
    "sort_time_list2 = time.time() - StartTime \n",
    "print('First five elements:', BubbleSort(list2)[0:5], '\\nRun time:', round(sort_time_list2, 5))\n",
    "print('This list is twice the size of the previous one and took', round(sort_time_list2/sort_time_list1, 4), \n",
    "      'times longer to run.')"
   ]
  },
  {
   "cell_type": "code",
   "execution_count": 8,
   "metadata": {},
   "outputs": [
    {
     "name": "stdout",
     "output_type": "stream",
     "text": [
      "First five elements: [ 3  4 11 12 15] \n",
      "Run time: 1.94948\n",
      "This list is twice the size of the previous one and took 3.879 times longer to run.\n"
     ]
    }
   ],
   "source": [
    "StartTime = time.time()\n",
    "\n",
    "BubbleSort(list3)\n",
    "\n",
    "sort_time_list3 = time.time() - StartTime \n",
    "print('First five elements:', BubbleSort(list3)[0:5], '\\nRun time:', round(sort_time_list3, 5))\n",
    "print('This list is twice the size of the previous one and took', round(sort_time_list3/sort_time_list2, 4), \n",
    "      'times longer to run.')"
   ]
  },
  {
   "cell_type": "code",
   "execution_count": 9,
   "metadata": {},
   "outputs": [
    {
     "name": "stdout",
     "output_type": "stream",
     "text": [
      "First five elements: [2 4 5 7 7] \n",
      "Run time: 7.69221\n",
      "This list is twice the size of the previous one and took 3.9458 times longer to run.\n"
     ]
    }
   ],
   "source": [
    "StartTime = time.time()\n",
    "\n",
    "BubbleSort(list4)\n",
    "\n",
    "sort_time_list4 = time.time() - StartTime \n",
    "print('First five elements:', BubbleSort(list4)[0:5], '\\nRun time:', round(sort_time_list4, 5))\n",
    "print('This list is twice the size of the previous one and took', round(sort_time_list4/sort_time_list3, 4), \n",
    "      'times longer to run.')"
   ]
  },
  {
   "cell_type": "code",
   "execution_count": 10,
   "metadata": {},
   "outputs": [
    {
     "name": "stdout",
     "output_type": "stream",
     "text": [
      "First five elements: [2 3 4 4 5] \n",
      "Run time: 30.48673\n",
      "This list is twice the size of the previous one and took 3.9633 times longer to run.\n"
     ]
    }
   ],
   "source": [
    "StartTime = time.time()\n",
    "\n",
    "BubbleSort(list5)\n",
    "\n",
    "sort_time_list5 = time.time() - StartTime \n",
    "print('First five elements:', BubbleSort(list5)[0:5], '\\nRun time:', round(sort_time_list5, 5))\n",
    "print('This list is twice the size of the previous one and took', round(sort_time_list5/sort_time_list4, 4), \n",
    "      'times longer to run.')"
   ]
  },
  {
   "cell_type": "code",
   "execution_count": 11,
   "metadata": {},
   "outputs": [],
   "source": [
    "bubble_sort_run_times = [sort_time_list1, sort_time_list2, sort_time_list3, sort_time_list4, sort_time_list5]"
   ]
  },
  {
   "cell_type": "markdown",
   "metadata": {},
   "source": [
    "#### Step 3 - Sort same arrays using binary search method "
   ]
  },
  {
   "cell_type": "code",
   "execution_count": 12,
   "metadata": {},
   "outputs": [],
   "source": [
    "def BinarySearch(numerical_list, item):\n",
    "    low = 0 \n",
    "    high = len(numerical_list) - 1 \n",
    "    while low <= high:\n",
    "        mid = (low + high) // 2\n",
    "        guess = numerical_list[mid]\n",
    "        if guess == item:\n",
    "            return mid \n",
    "        if guess > item: \n",
    "            high = mid - 1 \n",
    "        else:\n",
    "            low = mid + 1 \n",
    "    return None "
   ]
  },
  {
   "cell_type": "code",
   "execution_count": 14,
   "metadata": {},
   "outputs": [
    {
     "name": "stdout",
     "output_type": "stream",
     "text": [
      "[9944 9958 9973 9978]\n",
      "508\n",
      "509\n"
     ]
    }
   ],
   "source": [
    "# verification step \n",
    "print(np.sort(list1)[-4:]) \n",
    "print(BinarySearch(list1, 9944))\n",
    "print(BinarySearch(list1, 9958)) "
   ]
  },
  {
   "cell_type": "code",
   "execution_count": 15,
   "metadata": {},
   "outputs": [],
   "source": [
    "StartTime = time.time()\n",
    "BinarySearch(list1, max(list1))\n",
    "run_time_binary1 = time.time() - StartTime "
   ]
  },
  {
   "cell_type": "code",
   "execution_count": 16,
   "metadata": {},
   "outputs": [],
   "source": [
    "StartTime = time.time()\n",
    "BinarySearch(list2, max(list2))\n",
    "run_time_binary2 = time.time() - StartTime"
   ]
  },
  {
   "cell_type": "code",
   "execution_count": 17,
   "metadata": {},
   "outputs": [],
   "source": [
    "StartTime = time.time()\n",
    "BinarySearch(list3, max(list3))\n",
    "run_time_binary3 = time.time() - StartTime"
   ]
  },
  {
   "cell_type": "code",
   "execution_count": 18,
   "metadata": {},
   "outputs": [],
   "source": [
    "StartTime = time.time()\n",
    "BinarySearch(list4, max(list4))\n",
    "run_time_binary4 = time.time() - StartTime"
   ]
  },
  {
   "cell_type": "code",
   "execution_count": 19,
   "metadata": {},
   "outputs": [],
   "source": [
    "StartTime = time.time()\n",
    "BinarySearch(list5, max(list5))\n",
    "run_time_binary5 = time.time() - StartTime \n",
    "\n",
    "binary_search_run_times = [run_time_binary1, run_time_binary2, run_time_binary3, \n",
    "                           run_time_binary4, run_time_binary5]"
   ]
  },
  {
   "cell_type": "markdown",
   "metadata": {},
   "source": [
    "#### Step 4 - Sort same five arrays using linear search method "
   ]
  },
  {
   "cell_type": "code",
   "execution_count": 20,
   "metadata": {},
   "outputs": [],
   "source": [
    "def LinearSearch(num_list, number): \n",
    "    for i in range(0, len(num_list)): \n",
    "        if num_list[i] == number: \n",
    "            return i \n",
    "    return -1"
   ]
  },
  {
   "cell_type": "code",
   "execution_count": 21,
   "metadata": {},
   "outputs": [],
   "source": [
    "StartTime = time.time()\n",
    "LinearSearch(list1, max(list1))\n",
    "run_time_linear1 = time.time() - StartTime"
   ]
  },
  {
   "cell_type": "code",
   "execution_count": 22,
   "metadata": {},
   "outputs": [],
   "source": [
    "StartTime = time.time()\n",
    "LinearSearch(list2, max(list2))\n",
    "run_time_linear2 = time.time() - StartTime "
   ]
  },
  {
   "cell_type": "code",
   "execution_count": 23,
   "metadata": {},
   "outputs": [],
   "source": [
    "StartTime = time.time()\n",
    "LinearSearch(list3, max(list3)) \n",
    "run_time_linear3 = time.time() - StartTime "
   ]
  },
  {
   "cell_type": "code",
   "execution_count": 24,
   "metadata": {},
   "outputs": [],
   "source": [
    "StartTime = time.time()\n",
    "LinearSearch(list4, max(list4))\n",
    "run_time_linear4 = time.time() - StartTime "
   ]
  },
  {
   "cell_type": "code",
   "execution_count": 25,
   "metadata": {},
   "outputs": [],
   "source": [
    "StartTime = time.time()\n",
    "LinearSearch(list5, max(list5))\n",
    "run_time_linear5 = time.time() - StartTime \n",
    "\n",
    "linear_search_run_times = [run_time_linear1, run_time_linear2, \n",
    "                           run_time_linear3, run_time_linear4, run_time_linear5]"
   ]
  },
  {
   "cell_type": "markdown",
   "metadata": {},
   "source": [
    "#### Step 5 - Create DataFrame and table to show data generated above"
   ]
  },
  {
   "cell_type": "code",
   "execution_count": 26,
   "metadata": {},
   "outputs": [],
   "source": [
    "df_sort = pd.DataFrame({'Elements in Array': array_lengths, 'Sort Time (Bubble Sort Method)': \n",
    "                        bubble_sort_run_times,  'Linear Search Run Time': linear_search_run_times, \n",
    "                        'Binary Search Run Time': binary_search_run_times})\n",
    "\n",
    "df_sort['Binary Search Time + Sort Time'] = df_sort['Sort Time (Bubble Sort Method)'] + \\\n",
    "                                            df_sort['Binary Search Run Time'] \n",
    "\n",
    "df_sort['Linear Search Time + Sort Time'] = df_sort['Sort Time (Bubble Sort Method)'] + \\\n",
    "                                            df_sort['Linear Search Run Time'] "
   ]
  },
  {
   "cell_type": "code",
   "execution_count": 27,
   "metadata": {},
   "outputs": [
    {
     "data": {
      "text/html": [
       "<div>\n",
       "<style scoped>\n",
       "    .dataframe tbody tr th:only-of-type {\n",
       "        vertical-align: middle;\n",
       "    }\n",
       "\n",
       "    .dataframe tbody tr th {\n",
       "        vertical-align: top;\n",
       "    }\n",
       "\n",
       "    .dataframe thead th {\n",
       "        text-align: right;\n",
       "    }\n",
       "</style>\n",
       "<table border=\"1\" class=\"dataframe\">\n",
       "  <thead>\n",
       "    <tr style=\"text-align: right;\">\n",
       "      <th></th>\n",
       "      <th>Elements in Array</th>\n",
       "      <th>Sort Time (Bubble Sort Method)</th>\n",
       "      <th>Linear Search Run Time</th>\n",
       "      <th>Binary Search Run Time</th>\n",
       "      <th>Binary Search Time + Sort Time</th>\n",
       "      <th>Linear Search Time + Sort Time</th>\n",
       "    </tr>\n",
       "  </thead>\n",
       "  <tbody>\n",
       "    <tr>\n",
       "      <th>0</th>\n",
       "      <td>512</td>\n",
       "      <td>0.127505</td>\n",
       "      <td>0.000219</td>\n",
       "      <td>0.000176</td>\n",
       "      <td>0.127681</td>\n",
       "      <td>0.127724</td>\n",
       "    </tr>\n",
       "    <tr>\n",
       "      <th>1</th>\n",
       "      <td>1024</td>\n",
       "      <td>0.502580</td>\n",
       "      <td>0.000474</td>\n",
       "      <td>0.000241</td>\n",
       "      <td>0.502821</td>\n",
       "      <td>0.503054</td>\n",
       "    </tr>\n",
       "    <tr>\n",
       "      <th>2</th>\n",
       "      <td>2048</td>\n",
       "      <td>1.949484</td>\n",
       "      <td>0.000905</td>\n",
       "      <td>0.000382</td>\n",
       "      <td>1.949866</td>\n",
       "      <td>1.950389</td>\n",
       "    </tr>\n",
       "    <tr>\n",
       "      <th>3</th>\n",
       "      <td>4096</td>\n",
       "      <td>7.692208</td>\n",
       "      <td>0.001623</td>\n",
       "      <td>0.000704</td>\n",
       "      <td>7.692912</td>\n",
       "      <td>7.693831</td>\n",
       "    </tr>\n",
       "    <tr>\n",
       "      <th>4</th>\n",
       "      <td>8192</td>\n",
       "      <td>30.486731</td>\n",
       "      <td>0.002991</td>\n",
       "      <td>0.001035</td>\n",
       "      <td>30.487766</td>\n",
       "      <td>30.489722</td>\n",
       "    </tr>\n",
       "  </tbody>\n",
       "</table>\n",
       "</div>"
      ],
      "text/plain": [
       "   Elements in Array  Sort Time (Bubble Sort Method)  Linear Search Run Time  \\\n",
       "0                512                        0.127505                0.000219   \n",
       "1               1024                        0.502580                0.000474   \n",
       "2               2048                        1.949484                0.000905   \n",
       "3               4096                        7.692208                0.001623   \n",
       "4               8192                       30.486731                0.002991   \n",
       "\n",
       "   Binary Search Run Time  Binary Search Time + Sort Time  \\\n",
       "0                0.000176                        0.127681   \n",
       "1                0.000241                        0.502821   \n",
       "2                0.000382                        1.949866   \n",
       "3                0.000704                        7.692912   \n",
       "4                0.001035                       30.487766   \n",
       "\n",
       "   Linear Search Time + Sort Time  \n",
       "0                        0.127724  \n",
       "1                        0.503054  \n",
       "2                        1.950389  \n",
       "3                        7.693831  \n",
       "4                       30.489722  "
      ]
     },
     "execution_count": 27,
     "metadata": {},
     "output_type": "execute_result"
    }
   ],
   "source": [
    "df_sort "
   ]
  },
  {
   "cell_type": "code",
   "execution_count": 28,
   "metadata": {},
   "outputs": [
    {
     "data": {
      "image/png": "[encoded data removed]",
      "text/plain": [
       "<Figure size 576x432 with 1 Axes>"
      ]
     },
     "metadata": {
      "needs_background": "light"
     },
     "output_type": "display_data"
    }
   ],
   "source": [
    "array_lengths_str = [str(i) for i in array_lengths] \n",
    "\n",
    "fig, ax = plt.subplots(figsize=(8, 6)) \n",
    "\n",
    "plt.xlabel('Elements in Array') \n",
    "plt.ylabel('Time in Seconds') \n",
    "\n",
    "width = 0.40\n",
    "x = np.arange(len(array_lengths))\n",
    "ax.set_xticks(x)\n",
    "ax.set_xticklabels(array_lengths_str)\n",
    "\n",
    "binary_plot1 = ax.bar(x + width/2, df_sort['Binary Search Time + Sort Time'], width, color='salmon')\n",
    "linear_plot1 = ax.bar(x - width/2, df_sort['Linear Search Time + Sort Time'], width) \n",
    "\n",
    "plt.legend([binary_plot1, linear_plot1], ['Bubble Sort + Binary Search', 'Bubble Sort + Linear Search'])\n",
    "plt.title('Run Times for Sort and Search') \n",
    "plt.show();"
   ]
  },
  {
   "cell_type": "code",
   "execution_count": 29,
   "metadata": {},
   "outputs": [
    {
     "data": {
      "image/png": "[encoded data removed]",
      "text/plain": [
       "<Figure size 576x432 with 1 Axes>"
      ]
     },
     "metadata": {
      "needs_background": "light"
     },
     "output_type": "display_data"
    }
   ],
   "source": [
    "fig, ax = plt.subplots(figsize=(8, 6)) \n",
    "\n",
    "plt.xlabel('Elements in Array') \n",
    "plt.ylabel('Time in Seconds') \n",
    "\n",
    "width = 0.40\n",
    "x = np.arange(len(array_lengths))\n",
    "ax.set_xticks(x)\n",
    "ax.set_xticklabels(array_lengths_str)\n",
    "\n",
    "binary_plot2 = ax.bar(x + width/2, binary_search_run_times, width, color='salmon')\n",
    "linear_plot2 = ax.bar(x - width/2, linear_search_run_times, width) \n",
    "\n",
    "plt.legend([binary_plot2, linear_plot2], ['Binary Search', 'Linear Search'])\n",
    "plt.title('Run Times for Binary vs Linear Search') \n",
    "plt.show(); "
   ]
  },
  {
   "cell_type": "markdown",
   "metadata": {},
   "source": [
    "### Summary \n",
    "\n",
    "The sorting method used had the largest impact on run time.  In the first of the two graphs we can see that the number of elements in the array being sorted is doubling each time but the time required to sort it is quadrupling so this would be close to O(n^2) regardless if we use the binary search method or the linear search method to search for a value.   This point is also shown in the output of the code above: in 4 of the sorting outputs it reads 'This list is twice the size of the previous one and takes approximately 4.0 times longer to run.' \n",
    "\n",
    "\n",
    "In order to compare strictly the linear search versus the binary search methods, I made a second graph.  That second graph shows that the linear search method doubles in time as the number of elements in the array doubles - so the relationship is linear, O(n).  In the case of the binary search method, the time increases at a rate that is less than a linear relationship.  The binary search is faster for any array length and also its time to run increases at a slower rate so its run time is less than O(n).  \n",
    "\n",
    "\n",
    "This is useful because it provides us with some basic information on how different search algorithms will perform when scaled to search among a large number of items.  For example if each resident of a small town has a unique ID number for lookup then the algorithm choice is not terribly important but if we searched in a state with 5 million residents then the search method would be very important.  "
   ]
  },
  {
   "cell_type": "code",
   "execution_count": null,
   "metadata": {},
   "outputs": [],
   "source": []
  },
  {
   "cell_type": "code",
   "execution_count": null,
   "metadata": {},
   "outputs": [],
   "source": []
  },
  {
   "cell_type": "code",
   "execution_count": null,
   "metadata": {},
   "outputs": [],
   "source": []
  },
  {
   "cell_type": "code",
   "execution_count": null,
   "metadata": {},
   "outputs": [],
   "source": []
  }
 ],
 "metadata": {
  "kernelspec": {
   "display_name": "Python 3",
   "language": "python",
   "name": "python3"
  },
  "language_info": {
   "codemirror_mode": {
    "name": "ipython",
    "version": 3
   },
   "file_extension": ".py",
   "mimetype": "text/x-python",
   "name": "python",
   "nbconvert_exporter": "python",
   "pygments_lexer": "ipython3",
   "version": "3.8.5"
  }
 },
 "nbformat": 4,
 "nbformat_minor": 4
}
